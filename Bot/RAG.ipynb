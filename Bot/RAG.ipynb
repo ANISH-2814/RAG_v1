{
 "cells": [
  {
   "cell_type": "markdown",
   "id": "cf5db321",
   "metadata": {
    "vscode": {
     "languageId": "plaintext"
    }
   },
   "source": [
    "BASIC-RAG-PIPLINE"
   ]
  },
  {
   "cell_type": "markdown",
   "id": "11c0be45",
   "metadata": {},
   "source": [
    "This is basic RAG Pipline to get you started with RAG and GEN AI"
   ]
  },
  {
   "cell_type": "code",
   "execution_count": null,
   "id": "a2053cb9",
   "metadata": {},
   "outputs": [],
   "source": []
  }
 ],
 "metadata": {
  "kernelspec": {
   "display_name": "Finance_Market_Analysis",
   "language": "python",
   "name": "python3"
  },
  "language_info": {
   "name": "python",
   "version": "3.12.7"
  }
 },
 "nbformat": 4,
 "nbformat_minor": 5
}
